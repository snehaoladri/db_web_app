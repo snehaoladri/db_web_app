{
 "cells": [
  {
   "cell_type": "code",
   "execution_count": 1,
   "metadata": {
    "collapsed": true
   },
   "outputs": [],
   "source": [
    "from flask import Flask,redirect,url_for,request,render_template"
   ]
  },
  {
   "cell_type": "code",
   "execution_count": 2,
   "metadata": {},
   "outputs": [
    {
     "name": "stderr",
     "output_type": "stream",
     "text": [
      "/work/anaconda3/lib/python3.6/site-packages/h5py/__init__.py:36: FutureWarning: Conversion of the second argument of issubdtype from `float` to `np.floating` is deprecated. In future, it will be treated as `np.float64 == np.dtype(float).type`.\n",
      "  from ._conv import register_converters as _register_converters\n",
      "Using TensorFlow backend.\n"
     ]
    }
   ],
   "source": [
    "from keras.layers import Dense,Activation\n",
    "from scipy.misc import imsave, imread, imresize\n",
    "from matplotlib.pyplot import imshow"
   ]
  },
  {
   "cell_type": "code",
   "execution_count": 3,
   "metadata": {
    "collapsed": true
   },
   "outputs": [],
   "source": [
    "from keras.models import Sequential\n",
    "def model1():\n",
    "    model=Sequential()\n",
    "    model.add(keras.applications.mobilenet.MobileNet(input_shape=(224,224,3),alpha=1.0,depth_multiplier=1, dropout=1e-3,\n",
    "                                include_top=False, weights='imagenet',pooling=\"avg\"))\n",
    "    model.add(Dense(2048))\n",
    "    model.add(Activation('relu'))\n",
    "    model.add(Dense(120))\n",
    "    model.add(Activation('softmax'))\n",
    "    model.load_weights('mobile_net.h5')\n",
    "    \n",
    "    return model"
   ]
  },
  {
   "cell_type": "code",
   "execution_count": 4,
   "metadata": {
    "collapsed": true
   },
   "outputs": [],
   "source": [
    "import re\n",
    "def parseImage(imgData):\n",
    "    # parse canvas bytes and save as output.png\n",
    "    imgstr = re.search(b'base64,(.*)', imgData).group(1)\n",
    "    with open('output.png','wb') as output:\n",
    "        output.write(base64.decodebytes(imgstr))"
   ]
  },
  {
   "cell_type": "code",
   "execution_count": 7,
   "metadata": {
    "collapsed": true
   },
   "outputs": [],
   "source": [
    "import io\n",
    "import numpy as np\n",
    "import cv2\n",
    "import os\n",
    "from werkzeug import secure_filename\n",
    "from keras.preprocessing import image"
   ]
  },
  {
   "cell_type": "code",
   "execution_count": null,
   "metadata": {},
   "outputs": [
    {
     "name": "stderr",
     "output_type": "stream",
     "text": [
      " * Running on http://172.16.2.29:8891/ (Press CTRL+C to quit)\n",
      "172.16.5.116 - - [28/Mar/2018 09:30:08] \"\u001b[37mGET / HTTP/1.1\u001b[0m\" 200 -\n"
     ]
    },
    {
     "name": "stdout",
     "output_type": "stream",
     "text": [
      "-----1\n",
      "ImmutableMultiDict([('fileInput', <FileStorage: 'images.png' ('image/png')>)])\n",
      "<class 'werkzeug.datastructures.FileStorage'>\n",
      "images.png\n",
      "(219, 230, 3)\n"
     ]
    },
    {
     "name": "stderr",
     "output_type": "stream",
     "text": [
      "/work/anaconda3/lib/python3.6/site-packages/scipy/misc/pilutil.py:482: FutureWarning: Conversion of the second argument of issubdtype from `int` to `np.signedinteger` is deprecated. In future, it will be treated as `np.int64 == np.dtype(int).type`.\n",
      "  if issubdtype(ts, int):\n",
      "/work/anaconda3/lib/python3.6/site-packages/scipy/misc/pilutil.py:485: FutureWarning: Conversion of the second argument of issubdtype from `float` to `np.floating` is deprecated. In future, it will be treated as `np.float64 == np.dtype(float).type`.\n",
      "  elif issubdtype(type(size), float):\n",
      "172.16.5.116 - - [28/Mar/2018 09:30:32] \"\u001b[37mPOST /predict HTTP/1.1\u001b[0m\" 200 -\n"
     ]
    },
    {
     "name": "stdout",
     "output_type": "stream",
     "text": [
      "[[6.63127750e-03 2.33284618e-06 2.30574784e-07 1.25625360e-04\n",
      "  4.21617739e-03 1.75009453e-04 2.90402431e-06 5.51741011e-02\n",
      "  9.17746732e-08 1.13600101e-04 8.33343438e-06 1.46537644e-07\n",
      "  1.41598970e-01 1.76859999e-07 1.75184628e-03 4.82655378e-05\n",
      "  3.41334180e-06 2.46850192e-04 9.01981068e-09 1.02994418e-04\n",
      "  3.46055906e-03 4.58549257e-05 8.16148892e-02 1.99803490e-05\n",
      "  5.98293639e-07 5.77559840e-05 1.18297203e-06 5.96928521e-06\n",
      "  8.41177280e-06 5.18696557e-04 1.46609295e-06 4.81315645e-08\n",
      "  1.06277376e-07 4.08008464e-06 2.28195288e-03 1.33194635e-06\n",
      "  5.52440099e-07 2.98200193e-05 3.22601409e-03 1.17877603e-03\n",
      "  2.02986342e-07 2.64247404e-07 3.05675145e-04 9.47491662e-06\n",
      "  4.93238959e-03 5.93903102e-03 1.42485278e-05 1.62346478e-05\n",
      "  1.83886573e-01 8.36720756e-06 4.09627428e-05 1.44740015e-01\n",
      "  3.04660865e-08 1.75463592e-05 3.43235006e-04 2.35342441e-06\n",
      "  1.16270530e-06 5.23848226e-04 1.07897547e-04 5.91215394e-06\n",
      "  1.15262710e-05 1.15543138e-07 1.88671962e-07 2.35614280e-04\n",
      "  2.33256146e-02 1.32823160e-07 3.30072799e-05 2.96045989e-02\n",
      "  1.17816136e-03 1.11765951e-06 6.58220927e-07 3.54219587e-08\n",
      "  4.27461811e-04 1.39905367e-07 1.59562484e-03 3.90377636e-06\n",
      "  6.44276442e-04 5.32271515e-05 3.01455548e-05 1.51137225e-04\n",
      "  1.12954895e-05 2.11925981e-05 2.61805241e-07 3.92379763e-04\n",
      "  1.37673233e-08 5.53496932e-07 7.04520957e-08 3.35701138e-08\n",
      "  1.54191584e-04 8.42837908e-04 8.22377388e-06 3.75966425e-04\n",
      "  9.50279233e-09 2.12494160e-06 5.72633887e-08 2.21876684e-03\n",
      "  1.25724604e-04 1.66455757e-05 1.40068641e-05 6.66893119e-09\n",
      "  1.64183177e-06 1.59284027e-05 5.25145992e-07 3.61747857e-06\n",
      "  9.80759189e-02 1.82322830e-01 6.25379104e-03 4.43660667e-07\n",
      "  2.17937617e-04 6.25416897e-06 1.31554216e-05 9.78216878e-04\n",
      "  1.66088199e-07 1.31683319e-03 3.65727146e-07 4.46552217e-09\n",
      "  1.27064789e-06 2.41219648e-04 5.51296026e-03 4.15519921e-08]]\n",
      "[48]\n"
     ]
    }
   ],
   "source": [
    "import keras\n",
    "model=model1()\n",
    "app = Flask(__name__)\n",
    "UPLOAD_FOLDER = 'static/img'\n",
    "ALLOWED_EXTENSIONS = set(['png', 'jpg', 'jpeg', 'gif'])\n",
    "app.config['UPLOAD_FOLDER'] = UPLOAD_FOLDER\n",
    "@app.route('/predict',methods = ['POST', 'GET'])\n",
    "def predict():\n",
    "    # get data from drawing canvas and save as image\n",
    "    print('-----1')\n",
    "    print(request.files)\n",
    "    \n",
    "    if request.method == 'POST' and 'fileInput' in request.files:\n",
    "        f = request.files['fileInput']\n",
    "        print(type(f))\n",
    "        filename=secure_filename(f.filename)\n",
    "        print(filename)\n",
    "        #f.save(secure_filename(f.filename))\n",
    "        f.save(os.path.join(app.config['UPLOAD_FOLDER'], filename))\n",
    "        x = imread(app.config['UPLOAD_FOLDER']+'/'+filename, mode='RGB')\n",
    "        print(x.shape)\n",
    "        x = imresize(x,(224,224))\n",
    "        x = x.reshape(1,224,224,3)\n",
    "        out = model.predict(x/255)\n",
    "        print(out)\n",
    "        print(np.argmax(out, axis=1))\n",
    "        response = np.array_str(np.argmax(out, axis=1))\n",
    "        return response\n",
    "        \n",
    "        \n",
    "        \n",
    "    else:\n",
    "        return 'undefined'\n",
    "    '''\n",
    "    photo = request.files['fileInput']\n",
    "        print(photo)\n",
    "        in_memory_file = io.BytesIO()\n",
    "        photo.save(in_memory_file)\n",
    "        data = np.fromstring(in_memory_file.getvalue(), dtype=np.uint8)\n",
    "        color_image_flag = 1\n",
    "        img = cv2.imdecode(data, color_image_flag)\n",
    "        print(img.shape)\n",
    "        return img\n",
    "    \n",
    "    result=request.get_data()\n",
    "    \n",
    "    parseImage(result)\n",
    "    \n",
    "    print(x.shape)\n",
    "    # read parsed image back in 8-bit, black and white mode (L)\n",
    "   \n",
    "    \n",
    "    print(x.shape)\n",
    "    imshow(x)\n",
    "\n",
    "    # reshape image data for use in neural network\n",
    "    \n",
    "    return response '''\n",
    "\n",
    "\n",
    "@app.route('/')\n",
    "def hello_user():\n",
    "    #if name =='admin':\n",
    "    return render_template('login.html')\n",
    "    #else:\n",
    "     #   return redirect(url_for('hello_guest',guest = name))\n",
    "\n",
    "if __name__ == '__main__':\n",
    "    \n",
    "    app.run('172.16.2.29',8891)\n",
    "    \n",
    "\n"
   ]
  },
  {
   "cell_type": "code",
   "execution_count": null,
   "metadata": {
    "collapsed": true
   },
   "outputs": [],
   "source": []
  }
 ],
 "metadata": {
  "kernelspec": {
   "display_name": "Python 3",
   "language": "python",
   "name": "python3"
  },
  "language_info": {
   "codemirror_mode": {
    "name": "ipython",
    "version": 3
   },
   "file_extension": ".py",
   "mimetype": "text/x-python",
   "name": "python",
   "nbconvert_exporter": "python",
   "pygments_lexer": "ipython3",
   "version": "3.6.3"
  }
 },
 "nbformat": 4,
 "nbformat_minor": 2
}
